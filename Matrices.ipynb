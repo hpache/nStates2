{
 "cells": [
  {
   "cell_type": "markdown",
   "metadata": {},
   "source": [
    "Henry Pacheco Cachon\n",
    "\n",
    "Created 10/24/2021\n",
    "\n",
    "This program will create the omega and gamma matrices for our system"
   ]
  },
  {
   "cell_type": "code",
   "execution_count": 1,
   "metadata": {},
   "outputs": [],
   "source": [
    "from sympy import *"
   ]
  },
  {
   "cell_type": "code",
   "execution_count": 2,
   "metadata": {},
   "outputs": [],
   "source": [
    "numGround = 2\n",
    "numInter = 2\n",
    "numExc = 2\n",
    "totalStates = numGround + numInter + numExc"
   ]
  },
  {
   "cell_type": "code",
   "execution_count": 3,
   "metadata": {},
   "outputs": [
    {
     "data": {
      "text/latex": [
       "$\\displaystyle \\left[\\begin{matrix}\\Omega_{00} & \\Omega_{01}\\\\\\Omega_{10} & \\Omega_{11}\\end{matrix}\\right]$"
      ],
      "text/plain": [
       "Matrix([\n",
       "[Omega_00, Omega_01],\n",
       "[Omega_10, Omega_11]])"
      ]
     },
     "execution_count": 3,
     "metadata": {},
     "output_type": "execute_result"
    }
   ],
   "source": [
    "''' Creating omega for ground to inter states '''\n",
    "\n",
    "# Creating an array to hold the omega symbols\n",
    "# the number of ground states controls the columns\n",
    "# the number of intermediate states controls the rows\n",
    "omegaGroundIntermediate = [[] for i in range(numInter)]\n",
    "\n",
    "\n",
    "for groundIndex in range(numInter):\n",
    "    for intermediateIndex in range(numGround):\n",
    "        omegaGroundIntermediate[intermediateIndex].append(Symbol(\"Omega_{}{}\".format(intermediateIndex,groundIndex)))\n",
    "        \n",
    "\n",
    "Matrix(omegaGroundIntermediate)"
   ]
  },
  {
   "cell_type": "code",
   "execution_count": 4,
   "metadata": {},
   "outputs": [
    {
     "data": {
      "text/latex": [
       "$\\displaystyle \\left[\\begin{matrix}0 & 0 & \\Omega_{02} & \\Omega_{03} & 0 & 0\\\\0 & 0 & \\Omega_{12} & \\Omega_{13} & 0 & 0\\\\\\Omega_{02} & \\Omega_{12} & 0 & 0 & \\Omega_{24} & \\Omega_{25}\\\\\\Omega_{03} & \\Omega_{13} & 0 & 0 & \\Omega_{34} & \\Omega_{35}\\\\0 & 0 & \\Omega_{24} & \\Omega_{34} & 0 & 0\\\\0 & 0 & \\Omega_{25} & \\Omega_{35} & 0 & 0\\end{matrix}\\right]$"
      ],
      "text/plain": [
       "Matrix([\n",
       "[       0,        0, Omega_02, Omega_03,        0,        0],\n",
       "[       0,        0, Omega_12, Omega_13,        0,        0],\n",
       "[Omega_02, Omega_12,        0,        0, Omega_24, Omega_25],\n",
       "[Omega_03, Omega_13,        0,        0, Omega_34, Omega_35],\n",
       "[       0,        0, Omega_24, Omega_34,        0,        0],\n",
       "[       0,        0, Omega_25, Omega_35,        0,        0]])"
      ]
     },
     "execution_count": 4,
     "metadata": {},
     "output_type": "execute_result"
    }
   ],
   "source": [
    "''' Creating Omega array for all states '''\n",
    "omegaAll = [[0 for i in range(totalStates)] for j in range(totalStates)]\n",
    "\n",
    "for i in range(numGround):\n",
    "    for j in range(numInter):\n",
    "\n",
    "        ground_inter = Symbol(\"Omega_{}{}\".format(i,j + numGround))\n",
    "        omegaAll[i][j + numGround] = ground_inter\n",
    "        omegaAll[j + numInter][i] = ground_inter\n",
    "\n",
    "for i in range(numInter):\n",
    "    for j in range(numExc):\n",
    "        inter_exc = Symbol(\"Omega_{}{}\".format(i + numGround, j + numGround + numInter))\n",
    "        omegaAll[i + numGround][j + numGround + numInter] = inter_exc\n",
    "        omegaAll[j + numGround + numInter][i + numGround] = inter_exc\n",
    "\n",
    "Matrix(omegaAll)\n"
   ]
  },
  {
   "cell_type": "code",
   "execution_count": 5,
   "metadata": {},
   "outputs": [
    {
     "data": {
      "text/latex": [
       "$\\displaystyle \\left[\\begin{matrix}0 & 0 & \\Gamma_{02} & \\Gamma_{03} & 0 & 0\\\\0 & 0 & \\Gamma_{12} & \\Gamma_{13} & 0 & 0\\\\\\Gamma_{20} & \\Gamma_{21} & 0 & 0 & \\Omega_{24} & \\Omega_{25}\\\\\\Gamma_{30} & \\Gamma_{31} & 0 & 0 & \\Omega_{34} & \\Omega_{35}\\\\0 & 0 & \\Omega_{42} & \\Omega_{43} & 0 & 0\\\\0 & 0 & \\Omega_{52} & \\Omega_{53} & 0 & 0\\end{matrix}\\right]$"
      ],
      "text/plain": [
       "Matrix([\n",
       "[       0,        0, Gamma_02, Gamma_03,        0,        0],\n",
       "[       0,        0, Gamma_12, Gamma_13,        0,        0],\n",
       "[Gamma_20, Gamma_21,        0,        0, Omega_24, Omega_25],\n",
       "[Gamma_30, Gamma_31,        0,        0, Omega_34, Omega_35],\n",
       "[       0,        0, Omega_42, Omega_43,        0,        0],\n",
       "[       0,        0, Omega_52, Omega_53,        0,        0]])"
      ]
     },
     "execution_count": 5,
     "metadata": {},
     "output_type": "execute_result"
    }
   ],
   "source": [
    "''' Creating gamma array for all states '''\n",
    "gammaAll = [[0 for i in range(totalStates)] for j in range(totalStates)]\n",
    "for i in range(numGround):\n",
    "    for j in range(numInter):\n",
    "\n",
    "        ground_to_inter = Symbol(\"Gamma_{}{}\".format(i,j + numGround))\n",
    "        inter_to_ground = Symbol(\"Gamma_{}{}\".format(j + numGround,i))\n",
    "        gammaAll[i][j + numGround] = ground_to_inter\n",
    "        gammaAll[j + numInter][i] = inter_to_ground\n",
    "\n",
    "for i in range(numInter):\n",
    "    for j in range(numExc):\n",
    "        inter_to_exc = Symbol(\"Omega_{}{}\".format(i + numGround, j + numGround + numInter))\n",
    "        exc_to_inter = Symbol(\"Omega_{}{}\".format(j + numGround + numInter, i + numGround))\n",
    "        gammaAll[i + numGround][j + numGround + numInter] = inter_to_exc\n",
    "        gammaAll[j + numGround + numInter][i + numGround] = exc_to_inter\n",
    "\n",
    "Matrix(gammaAll)"
   ]
  },
  {
   "cell_type": "code",
   "execution_count": 7,
   "metadata": {},
   "outputs": [
    {
     "name": "stdout",
     "output_type": "stream",
     "text": [
      "{rho_00: -rho_11 - rho_22 + 1}\n"
     ]
    }
   ],
   "source": [
    "test = 1\n",
    "\n",
    "for i in range(1,3):\n",
    "\n",
    "    test -= Symbol('rho_{}{}'.format(i,i))\n",
    "\n",
    "ay = {Symbol('rho_00') : test}\n",
    "\n",
    "print(ay)"
   ]
  },
  {
   "cell_type": "code",
   "execution_count": null,
   "metadata": {},
   "outputs": [],
   "source": []
  }
 ],
 "metadata": {
  "interpreter": {
   "hash": "b0fa6594d8f4cbf19f97940f81e996739fb7646882a419484c72d19e05852a7e"
  },
  "kernelspec": {
   "display_name": "Python 3.9.7 64-bit",
   "language": "python",
   "name": "python3"
  },
  "language_info": {
   "codemirror_mode": {
    "name": "ipython",
    "version": 3
   },
   "file_extension": ".py",
   "mimetype": "text/x-python",
   "name": "python",
   "nbconvert_exporter": "python",
   "pygments_lexer": "ipython3",
   "version": "3.9.7"
  },
  "orig_nbformat": 4
 },
 "nbformat": 4,
 "nbformat_minor": 2
}
