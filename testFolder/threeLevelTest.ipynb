{
 "cells": [
  {
   "cell_type": "code",
   "execution_count": 4,
   "metadata": {},
   "outputs": [],
   "source": [
    "import calculationWrapper \n",
    "import codeWrapper\n",
    "from sympy import *"
   ]
  },
  {
   "cell_type": "code",
   "execution_count": 5,
   "metadata": {},
   "outputs": [],
   "source": [
    "# Writing down the hamiltonian\n",
    "deltaP = Symbol(\"delta_p\")\n",
    "deltaC = Symbol(\"delta_c\")\n",
    "kP = Symbol(\"k_p\")\n",
    "kC = Symbol(\"k_c\")\n",
    "v = Symbol(\"v\")\n",
    "\n",
    "# Hamiltonian Energy Level\n",
    "energyLevels = [-deltaP - kP * v, 0, deltaC - kC * v]"
   ]
  },
  {
   "cell_type": "code",
   "execution_count": 6,
   "metadata": {},
   "outputs": [],
   "source": [
    "# Writing the h and cpp files for the matrix and vector\n",
    "threeLevel = codeWrapper.codeWrapper([1,1,1],[(1,0),(2,1)])\n",
    "threeLevel.addToConstantsList(deltaP)\n",
    "threeLevel.addToConstantsList(deltaC)\n",
    "threeLevel.addToConstantsList(kP)\n",
    "threeLevel.addToConstantsList(kC)\n",
    "threeLevel.addToConstantsList(v)\n",
    "threeLevel.createHamiltonian(energyLevels)\n",
    "threeLevel.doPhysics()\n",
    "threeLevel.writeMatrixH()\n",
    "threeLevel.writeVectorH()\n",
    "threeLevel.writeVectorCPP()\n",
    "threeLevel.writeMatrixCPP()"
   ]
  },
  {
   "cell_type": "code",
   "execution_count": 7,
   "metadata": {},
   "outputs": [],
   "source": [
    "# Writing the main.cpp file\n",
    "threeLevelCalculation = calculationWrapper.calculationWrapper(threeLevel.getConstants(), threeLevel.getDimension())\n",
    "threeLevelCalculation.setMatrixParameters(threeLevel.getMatrixConstants())\n",
    "threeLevelCalculation.setVectorParameters(threeLevel.getVectorConstants())\n",
    "threeLevelCalculation.setLocation(4)\n",
    "threeLevelCalculation.askConstants()\n",
    "threeLevelCalculation.setParameters()\n",
    "threeLevelCalculation.writeBody()"
   ]
  },
  {
   "cell_type": "code",
   "execution_count": 8,
   "metadata": {},
   "outputs": [
    {
     "data": {
      "text/latex": [
       "$\\displaystyle \\left[\\begin{matrix}- \\delta_{p} - k_{p} v & 0.5 \\Omega_{01} & 0\\\\0.5 \\Omega_{01} & 0 & 0.5 \\Omega_{12}\\\\0 & 0.5 \\Omega_{12} & \\delta_{c} - k_{c} v\\end{matrix}\\right]$"
      ],
      "text/plain": [
       "Matrix([\n",
       "[-delta_p - k_p*v, 0.5*Omega_01,               0],\n",
       "[    0.5*Omega_01,            0,    0.5*Omega_12],\n",
       "[               0, 0.5*Omega_12, delta_c - k_c*v]])"
      ]
     },
     "execution_count": 8,
     "metadata": {},
     "output_type": "execute_result"
    }
   ],
   "source": [
    "# Checking the Hamiltonian\n",
    "Matrix(threeLevel.getHamiltonian())"
   ]
  }
 ],
 "metadata": {
  "interpreter": {
   "hash": "b0fa6594d8f4cbf19f97940f81e996739fb7646882a419484c72d19e05852a7e"
  },
  "kernelspec": {
   "display_name": "Python 3.9.8 64-bit",
   "language": "python",
   "name": "python3"
  },
  "language_info": {
   "codemirror_mode": {
    "name": "ipython",
    "version": 3
   },
   "file_extension": ".py",
   "mimetype": "text/x-python",
   "name": "python",
   "nbconvert_exporter": "python",
   "pygments_lexer": "ipython3",
   "version": "3.9.8"
  },
  "orig_nbformat": 4
 },
 "nbformat": 4,
 "nbformat_minor": 2
}
