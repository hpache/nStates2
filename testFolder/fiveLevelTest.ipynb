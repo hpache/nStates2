{
 "cells": [
  {
   "cell_type": "code",
   "execution_count": null,
   "metadata": {},
   "outputs": [],
   "source": [
    "import calculationWrapper \n",
    "import codeWrapper\n",
    "from sympy import *"
   ]
  },
  {
   "cell_type": "code",
   "execution_count": null,
   "metadata": {},
   "outputs": [],
   "source": [
    "# Writing down the hamiltonian\n",
    "deltaP = Symbol(\"delta_p\")\n",
    "deltaC = Symbol(\"delta_c\")\n",
    "kP = Symbol(\"k_p\")\n",
    "kC = Symbol(\"k_c\")\n",
    "v = Symbol(\"v\")\n",
    "delta12 = Symbol(\"Delta_12\")\n",
    "delta34 = Symbol(\"Delta_23\")\n",
    "energyLevels = [-deltaP - kP * v, 0, delta12 ,deltaC - kC * v, delta34 + deltaC - kC * v]"
   ]
  },
  {
   "cell_type": "code",
   "execution_count": null,
   "metadata": {},
   "outputs": [],
   "source": [
    "# Writing the h and cpp files for the matrix and vector\n",
    "fiveLevel = codeWrapper.codeWrapper([1,2,2],[(1,0), (2,0), (3,1), (4,1), (3,2), (4,2)])\n",
    "fiveLevel.addToConstantsList(deltaP)\n",
    "fiveLevel.addToConstantsList(deltaC)\n",
    "fiveLevel.addToConstantsList(kP)\n",
    "fiveLevel.addToConstantsList(kC)\n",
    "fiveLevel.addToConstantsList(v)\n",
    "fiveLevel.addToConstantsList(delta12)\n",
    "fiveLevel.addToConstantsList(delta34)\n",
    "fiveLevel.createHamiltonian(energyLevels)\n",
    "fiveLevel.doPhysics()\n",
    "fiveLevel.writeMatrixH()\n",
    "fiveLevel.writeVectorH()\n",
    "fiveLevel.writeVectorCPP()\n",
    "fiveLevel.writeMatrixCPP()"
   ]
  },
  {
   "cell_type": "code",
   "execution_count": null,
   "metadata": {},
   "outputs": [],
   "source": [
    "# Checking the Hamiltonian\n",
    "Matrix(fiveLevel.getHamiltonian())"
   ]
  }
 ],
 "metadata": {
  "language_info": {
   "name": "python"
  },
  "orig_nbformat": 4
 },
 "nbformat": 4,
 "nbformat_minor": 2
}
