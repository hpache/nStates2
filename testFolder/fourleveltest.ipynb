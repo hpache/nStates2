{
 "cells": [
  {
   "cell_type": "code",
   "execution_count": 1,
   "metadata": {},
   "outputs": [],
   "source": [
    "import calculationWrapper \n",
    "import codeWrapper\n",
    "from sympy import *"
   ]
  },
  {
   "cell_type": "code",
   "execution_count": 2,
   "metadata": {},
   "outputs": [],
   "source": [
    "# Writing down the hamiltonian\n",
    "deltaP = Symbol(\"delta_p\")\n",
    "deltaC = Symbol(\"delta_c\")\n",
    "kP = Symbol(\"k_p\")\n",
    "kC = Symbol(\"k_c\")\n",
    "v = Symbol(\"v\")\n",
    "delta23 = Symbol(\"Delta_23\")\n",
    "energyLevels = [-deltaP - kP * v, 0, deltaC - kC * v, delta23 + deltaC - kC * v]"
   ]
  },
  {
   "cell_type": "code",
   "execution_count": null,
   "metadata": {},
   "outputs": [],
   "source": [
    "# Writing the h and cpp files for the matrix and vector\n",
    "fourLevel = codeWrapper.codeWrapper([1,1,2],[(1,0),(2,1),(3,1)])\n",
    "fourLevel.addToConstantsList(deltaP)\n",
    "fourLevel.addToConstantsList(deltaC)\n",
    "fourLevel.addToConstantsList(kP)\n",
    "fourLevel.addToConstantsList(kC)\n",
    "fourLevel.addToConstantsList(v)\n",
    "fourLevel.addToConstantsList(delta23)\n",
    "fourLevel.createHamiltonian(energyLevels)\n",
    "fourLevel.doPhysics()\n",
    "fourLevel.writeMatrixH()\n",
    "fourLevel.writeVectorH()\n",
    "fourLevel.writeVectorCPP()\n",
    "fourLevel.writeMatrixCPP()"
   ]
  },
  {
   "cell_type": "code",
   "execution_count": 3,
   "metadata": {},
   "outputs": [],
   "source": [
    "# Writing the main.cpp file\n",
    "fourLevelCalculation = calculationWrapper.calculationWrapper(fourLevel.getConstants(), fourLevel.getDimension())\n",
    "fourLevelCalculation.setMatrixParameters(fourLevel.getMatrixConstants())\n",
    "fourLevelCalculation.setVectorParameters(fourLevel.getVectorConstants())\n",
    "fourLevelCalculation.setLocation(6)\n",
    "fourLevelCalculation.askConstants()\n",
    "fourLevelCalculation.setParameters()\n",
    "fourLevelCalculation.writeBody()"
   ]
  },
  {
   "cell_type": "code",
   "execution_count": 4,
   "metadata": {},
   "outputs": [
    {
     "data": {
      "text/latex": [
       "$\\displaystyle \\left[\\begin{matrix}- \\delta_{p} - k_{p} v & 0.5 \\Omega_{01} & 0 & 0\\\\0.5 \\Omega_{01} & 0 & 0.5 \\Omega_{12} & 0.5 \\Omega_{13}\\\\0 & 0.5 \\Omega_{12} & \\delta_{c} - k_{c} v & 0\\\\0 & 0.5 \\Omega_{13} & 0 & \\Delta_{23} + \\delta_{c} - k_{c} v\\end{matrix}\\right]$"
      ],
      "text/plain": [
       "Matrix([\n",
       "[-delta_p - k_p*v, 0.5*Omega_01,               0,                          0],\n",
       "[    0.5*Omega_01,            0,    0.5*Omega_12,               0.5*Omega_13],\n",
       "[               0, 0.5*Omega_12, delta_c - k_c*v,                          0],\n",
       "[               0, 0.5*Omega_13,               0, Delta_23 + delta_c - k_c*v]])"
      ]
     },
     "execution_count": 4,
     "metadata": {},
     "output_type": "execute_result"
    }
   ],
   "source": [
    "# Checking the Hamiltonian\n",
    "Matrix(fourLevel.getHamiltonian())"
   ]
  },
  {
   "cell_type": "code",
   "execution_count": null,
   "metadata": {},
   "outputs": [],
   "source": []
  }
 ],
 "metadata": {
  "interpreter": {
   "hash": "b0fa6594d8f4cbf19f97940f81e996739fb7646882a419484c72d19e05852a7e"
  },
  "kernelspec": {
   "display_name": "Python 3.9.8 64-bit",
   "language": "python",
   "name": "python3"
  },
  "language_info": {
   "codemirror_mode": {
    "name": "ipython",
    "version": 3
   },
   "file_extension": ".py",
   "mimetype": "text/x-python",
   "name": "python",
   "nbconvert_exporter": "python",
   "pygments_lexer": "ipython3",
   "version": "3.9.8"
  },
  "orig_nbformat": 4
 },
 "nbformat": 4,
 "nbformat_minor": 2
}
